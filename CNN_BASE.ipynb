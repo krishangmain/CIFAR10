{
 "cells": [
  {
   "cell_type": "code",
   "execution_count": 1,
   "metadata": {
    "executionInfo": {
     "elapsed": 3580,
     "status": "ok",
     "timestamp": 1689049160006,
     "user": {
      "displayName": "aman bhardwaj",
      "userId": "18085061439905292099"
     },
     "user_tz": -330
    },
    "id": "IoIIajXvTHt0"
   },
   "outputs": [],
   "source": [
    "import numpy as np\n",
    "from tensorflow import keras\n",
    "from tensorflow.keras import layers\n",
    "import matplotlib.pyplot as plt\n"
   ]
  },
  {
   "cell_type": "code",
   "execution_count": 2,
   "metadata": {
    "colab": {
     "base_uri": "https://localhost:8080/"
    },
    "executionInfo": {
     "elapsed": 7927,
     "status": "ok",
     "timestamp": 1689049167924,
     "user": {
      "displayName": "aman bhardwaj",
      "userId": "18085061439905292099"
     },
     "user_tz": -330
    },
    "id": "Ls5DCNhbTkcQ",
    "outputId": "2cedef00-25a9-4fac-ad4b-6ddc9aec71f8"
   },
   "outputs": [],
   "source": [
    "num_classes = 10\n",
    "input_shape = (32, 32, 3)\n",
    "\n",
    "(x_train, y_train), (x_test, y_test) = keras.datasets.cifar10.load_data()"
   ]
  },
  {
   "cell_type": "code",
   "execution_count": 3,
   "metadata": {
    "colab": {
     "base_uri": "https://localhost:8080/"
    },
    "executionInfo": {
     "elapsed": 5,
     "status": "ok",
     "timestamp": 1689049167925,
     "user": {
      "displayName": "aman bhardwaj",
      "userId": "18085061439905292099"
     },
     "user_tz": -330
    },
    "id": "GtwR59oZUqXO",
    "outputId": "fde84b08-c222-409a-9c80-385f00d48bc6"
   },
   "outputs": [
    {
     "name": "stdout",
     "output_type": "stream",
     "text": [
      "(50000, 32, 32, 3) (10000, 32, 32, 3)\n"
     ]
    }
   ],
   "source": [
    "print(x_train.shape, x_test.shape)"
   ]
  },
  {
   "cell_type": "code",
   "execution_count": 4,
   "metadata": {
    "colab": {
     "base_uri": "https://localhost:8080/",
     "height": 430
    },
    "executionInfo": {
     "elapsed": 815,
     "status": "ok",
     "timestamp": 1689049168738,
     "user": {
      "displayName": "aman bhardwaj",
      "userId": "18085061439905292099"
     },
     "user_tz": -330
    },
    "id": "Hr_lzPZGVV9B",
    "outputId": "8255f944-a99e-4721-e42a-053448e341b8"
   },
   "outputs": [
    {
     "data": {
      "image/png": "[encoded data removed]",
      "text/plain": [
       "<Figure size 640x480 with 1 Axes>"
      ]
     },
     "metadata": {},
     "output_type": "display_data"
    }
   ],
   "source": [
    "test = x_train[100]\n",
    "plt.imshow(test)\n",
    "plt.show()\n"
   ]
  },
  {
   "cell_type": "code",
   "execution_count": 5,
   "metadata": {
    "executionInfo": {
     "elapsed": 699,
     "status": "ok",
     "timestamp": 1689049169433,
     "user": {
      "displayName": "aman bhardwaj",
      "userId": "18085061439905292099"
     },
     "user_tz": -330
    },
    "id": "-jTdsVJqVdXw"
   },
   "outputs": [],
   "source": [
    "#Pre-process\n",
    "x_train = x_train.astype(\"float32\")/255\n",
    "x_test = x_test.astype(\"float32\")/255\n",
    "#Make sure input shape = 28*28*1\n",
    "x_train = np.expand_dims(x_train, -1)\n",
    "x_test = np.expand_dims(x_test, -1)"
   ]
  },
  {
   "cell_type": "code",
   "execution_count": 6,
   "metadata": {
    "colab": {
     "base_uri": "https://localhost:8080/"
    },
    "executionInfo": {
     "elapsed": 9,
     "status": "ok",
     "timestamp": 1689049169433,
     "user": {
      "displayName": "aman bhardwaj",
      "userId": "18085061439905292099"
     },
     "user_tz": -330
    },
    "id": "3b-DeojeVmDH",
    "outputId": "a0f3a8a0-5c5d-4b40-bcc5-2838f1496bfd"
   },
   "outputs": [
    {
     "name": "stdout",
     "output_type": "stream",
     "text": [
      "x_train shape:  (50000, 32, 32, 3, 1)\n",
      "50000  - Train samples\n",
      "10000  - Test samples\n"
     ]
    }
   ],
   "source": [
    "print(\"x_train shape: \", x_train.shape)\n",
    "print(x_train.shape[0], \" - Train samples\")\n",
    "print(x_test.shape[0], \" - Test samples\")"
   ]
  },
  {
   "cell_type": "code",
   "execution_count": 7,
   "metadata": {
    "executionInfo": {
     "elapsed": 7,
     "status": "ok",
     "timestamp": 1689049169434,
     "user": {
      "displayName": "aman bhardwaj",
      "userId": "18085061439905292099"
     },
     "user_tz": -330
    },
    "id": "bmWD5303WFfk"
   },
   "outputs": [],
   "source": [
    "y_train = keras.utils.to_categorical(y_train, num_classes)\n",
    "y_test = keras.utils.to_categorical(y_test, num_classes)"
   ]
  },
  {
   "cell_type": "code",
   "execution_count": 8,
   "metadata": {
    "colab": {
     "base_uri": "https://localhost:8080/"
    },
    "executionInfo": {
     "elapsed": 7,
     "status": "ok",
     "timestamp": 1689049169434,
     "user": {
      "displayName": "aman bhardwaj",
      "userId": "18085061439905292099"
     },
     "user_tz": -330
    },
    "id": "10bdKidIdvrM",
    "outputId": "6e3776d9-27ae-4bb5-c668-a26b7dd1b73b"
   },
   "outputs": [
    {
     "data": {
      "text/plain": [
       "array([0., 0., 0., 0., 0., 0., 1., 0., 0., 0.], dtype=float32)"
      ]
     },
     "execution_count": 8,
     "metadata": {},
     "output_type": "execute_result"
    }
   ],
   "source": [
    "y_train[0]"
   ]
  },
  {
   "cell_type": "code",
   "execution_count": 9,
   "metadata": {
    "executionInfo": {
     "elapsed": 604,
     "status": "ok",
     "timestamp": 1689049676429,
     "user": {
      "displayName": "aman bhardwaj",
      "userId": "18085061439905292099"
     },
     "user_tz": -330
    },
    "id": "j889i2d3WKFl"
   },
   "outputs": [],
   "source": [
    "\n",
    "model = keras.Sequential(\n",
    "    [\n",
    "     keras.Input(shape = input_shape),\n",
    "     layers.Conv2D(32, kernel_size=(3,3), activation = \"relu\"),\n",
    "     layers.Conv2D(32, kernel_size=(3,3), activation = \"relu\"),\n",
    "     layers.MaxPooling2D(pool_size = (2, 2)),\n",
    "      layers.Dropout(0.5),\n",
    "     layers.Conv2D(64, kernel_size=(3,3), activation = \"relu\"),\n",
    "     layers.Conv2D(64, kernel_size=(3,3), activation = \"relu\"),\n",
    "     layers.MaxPooling2D(pool_size = (2, 2)),\n",
    "     layers.Dropout(0.5),\n",
    "     layers.Flatten(),\n",
    "     layers.Dense(512, activation=\"relu\"),\n",
    "     layers.Dropout(0.5),\n",
    "     layers.Dense(num_classes, activation=\"softmax\")\n",
    "    ]\n",
    ")\n"
   ]
  },
  {
   "cell_type": "code",
   "execution_count": 10,
   "metadata": {
    "colab": {
     "base_uri": "https://localhost:8080/"
    },
    "executionInfo": {
     "elapsed": 4,
     "status": "ok",
     "timestamp": 1689049679191,
     "user": {
      "displayName": "aman bhardwaj",
      "userId": "18085061439905292099"
     },
     "user_tz": -330
    },
    "id": "rlSGpJLkYqkJ",
    "outputId": "1bbdabd3-3153-4b1f-ae77-c1ebc1116c51"
   },
   "outputs": [
    {
     "name": "stdout",
     "output_type": "stream",
     "text": [
      "Model: \"sequential\"\n",
      "_________________________________________________________________\n",
      " Layer (type)                Output Shape              Param #   \n",
      "=================================================================\n",
      " conv2d (Conv2D)             (None, 30, 30, 32)        896       \n",
      "                                                                 \n",
      " conv2d_1 (Conv2D)           (None, 28, 28, 32)        9248      \n",
      "                                                                 \n",
      " max_pooling2d (MaxPooling2  (None, 14, 14, 32)        0         \n",
      " D)                                                              \n",
      "                                                                 \n",
      " dropout (Dropout)           (None, 14, 14, 32)        0         \n",
      "                                                                 \n",
      " conv2d_2 (Conv2D)           (None, 12, 12, 64)        18496     \n",
      "                                                                 \n",
      " conv2d_3 (Conv2D)           (None, 10, 10, 64)        36928     \n",
      "                                                                 \n",
      " max_pooling2d_1 (MaxPoolin  (None, 5, 5, 64)          0         \n",
      " g2D)                                                            \n",
      "                                                                 \n",
      " dropout_1 (Dropout)         (None, 5, 5, 64)          0         \n",
      "                                                                 \n",
      " flatten (Flatten)           (None, 1600)              0         \n",
      "                                                                 \n",
      " dense (Dense)               (None, 512)               819712    \n",
      "                                                                 \n",
      " dropout_2 (Dropout)         (None, 512)               0         \n",
      "                                                                 \n",
      " dense_1 (Dense)             (None, 10)                5130      \n",
      "                                                                 \n",
      "=================================================================\n",
      "Total params: 890410 (3.40 MB)\n",
      "Trainable params: 890410 (3.40 MB)\n",
      "Non-trainable params: 0 (0.00 Byte)\n",
      "_________________________________________________________________\n"
     ]
    }
   ],
   "source": [
    "model.summary()"
   ]
  },
  {
   "cell_type": "code",
   "execution_count": 11,
   "metadata": {
    "executionInfo": {
     "elapsed": 3,
     "status": "ok",
     "timestamp": 1689049679888,
     "user": {
      "displayName": "aman bhardwaj",
      "userId": "18085061439905292099"
     },
     "user_tz": -330
    },
    "id": "QtpZOAMQYveN"
   },
   "outputs": [],
   "source": [
    "batch_size = 200\n",
    "epochs = 30"
   ]
  },
  {
   "cell_type": "code",
   "execution_count": 12,
   "metadata": {
    "executionInfo": {
     "elapsed": 3,
     "status": "ok",
     "timestamp": 1689049679888,
     "user": {
      "displayName": "aman bhardwaj",
      "userId": "18085061439905292099"
     },
     "user_tz": -330
    },
    "id": "t5Klo8dAYy9G"
   },
   "outputs": [],
   "source": [
    "model.compile(loss=\"categorical_crossentropy\", optimizer=\"adam\", metrics=[\"accuracy\"])"
   ]
  },
  {
   "cell_type": "code",
   "execution_count": 13,
   "metadata": {
    "colab": {
     "base_uri": "https://localhost:8080/"
    },
    "executionInfo": {
     "elapsed": 2503449,
     "status": "ok",
     "timestamp": 1689052183335,
     "user": {
      "displayName": "aman bhardwaj",
      "userId": "18085061439905292099"
     },
     "user_tz": -330
    },
    "id": "mjSi64__ZAqU",
    "outputId": "a2b89325-1cac-4c11-f31f-85a73c1f726e"
   },
   "outputs": [
    {
     "name": "stdout",
     "output_type": "stream",
     "text": [
      "Epoch 1/30\n",
      "225/225 [==============================] - 24s 106ms/step - loss: 1.8034 - accuracy: 0.3276 - val_loss: 1.3945 - val_accuracy: 0.5030\n",
      "Epoch 2/30\n",
      "225/225 [==============================] - 24s 107ms/step - loss: 1.4142 - accuracy: 0.4884 - val_loss: 1.2161 - val_accuracy: 0.5628\n",
      "Epoch 3/30\n",
      "225/225 [==============================] - 24s 106ms/step - loss: 1.2618 - accuracy: 0.5472 - val_loss: 1.1038 - val_accuracy: 0.6040\n",
      "Epoch 4/30\n",
      "225/225 [==============================] - 24s 108ms/step - loss: 1.1664 - accuracy: 0.5833 - val_loss: 0.9924 - val_accuracy: 0.6570\n",
      "Epoch 5/30\n",
      "225/225 [==============================] - 24s 106ms/step - loss: 1.1018 - accuracy: 0.6087 - val_loss: 0.9057 - val_accuracy: 0.6874\n",
      "Epoch 6/30\n",
      "225/225 [==============================] - 24s 108ms/step - loss: 1.0420 - accuracy: 0.6321 - val_loss: 0.8749 - val_accuracy: 0.7048\n",
      "Epoch 7/30\n",
      "225/225 [==============================] - 24s 108ms/step - loss: 0.9859 - accuracy: 0.6534 - val_loss: 0.8080 - val_accuracy: 0.7194\n",
      "Epoch 8/30\n",
      "225/225 [==============================] - 24s 108ms/step - loss: 0.9534 - accuracy: 0.6626 - val_loss: 0.7996 - val_accuracy: 0.7244\n",
      "Epoch 9/30\n",
      "225/225 [==============================] - 24s 107ms/step - loss: 0.9203 - accuracy: 0.6746 - val_loss: 0.7711 - val_accuracy: 0.7360\n",
      "Epoch 10/30\n",
      "225/225 [==============================] - 24s 105ms/step - loss: 0.8960 - accuracy: 0.6834 - val_loss: 0.7512 - val_accuracy: 0.7388\n",
      "Epoch 11/30\n",
      "225/225 [==============================] - 24s 106ms/step - loss: 0.8718 - accuracy: 0.6926 - val_loss: 0.7270 - val_accuracy: 0.7520\n",
      "Epoch 12/30\n",
      "225/225 [==============================] - 24s 109ms/step - loss: 0.8495 - accuracy: 0.7000 - val_loss: 0.7146 - val_accuracy: 0.7562\n",
      "Epoch 13/30\n",
      "225/225 [==============================] - 24s 106ms/step - loss: 0.8358 - accuracy: 0.7086 - val_loss: 0.6989 - val_accuracy: 0.7614\n",
      "Epoch 14/30\n",
      "225/225 [==============================] - 23s 104ms/step - loss: 0.8195 - accuracy: 0.7124 - val_loss: 0.7047 - val_accuracy: 0.7590\n",
      "Epoch 15/30\n",
      "225/225 [==============================] - 24s 106ms/step - loss: 0.8005 - accuracy: 0.7172 - val_loss: 0.6796 - val_accuracy: 0.7666\n",
      "Epoch 16/30\n",
      "225/225 [==============================] - 24s 106ms/step - loss: 0.7923 - accuracy: 0.7230 - val_loss: 0.6960 - val_accuracy: 0.7610\n",
      "Epoch 17/30\n",
      "225/225 [==============================] - 24s 107ms/step - loss: 0.7731 - accuracy: 0.7251 - val_loss: 0.6601 - val_accuracy: 0.7722\n",
      "Epoch 18/30\n",
      "225/225 [==============================] - 24s 107ms/step - loss: 0.7652 - accuracy: 0.7312 - val_loss: 0.6386 - val_accuracy: 0.7824\n",
      "Epoch 19/30\n",
      "225/225 [==============================] - 24s 108ms/step - loss: 0.7453 - accuracy: 0.7361 - val_loss: 0.6483 - val_accuracy: 0.7730\n",
      "Epoch 20/30\n",
      "225/225 [==============================] - 24s 107ms/step - loss: 0.7417 - accuracy: 0.7389 - val_loss: 0.6374 - val_accuracy: 0.7776\n",
      "Epoch 21/30\n",
      "225/225 [==============================] - 25s 110ms/step - loss: 0.7324 - accuracy: 0.7449 - val_loss: 0.6363 - val_accuracy: 0.7840\n",
      "Epoch 22/30\n",
      "225/225 [==============================] - 24s 109ms/step - loss: 0.7230 - accuracy: 0.7460 - val_loss: 0.6286 - val_accuracy: 0.7840\n",
      "Epoch 23/30\n",
      "225/225 [==============================] - 24s 107ms/step - loss: 0.7158 - accuracy: 0.7477 - val_loss: 0.6161 - val_accuracy: 0.7838\n",
      "Epoch 24/30\n",
      "225/225 [==============================] - 24s 106ms/step - loss: 0.7053 - accuracy: 0.7527 - val_loss: 0.6356 - val_accuracy: 0.7808\n",
      "Epoch 25/30\n",
      "225/225 [==============================] - 25s 109ms/step - loss: 0.6988 - accuracy: 0.7536 - val_loss: 0.6169 - val_accuracy: 0.7880\n",
      "Epoch 26/30\n",
      "225/225 [==============================] - 23s 104ms/step - loss: 0.6923 - accuracy: 0.7574 - val_loss: 0.6115 - val_accuracy: 0.7930\n",
      "Epoch 27/30\n",
      "225/225 [==============================] - 24s 107ms/step - loss: 0.6738 - accuracy: 0.7600 - val_loss: 0.6022 - val_accuracy: 0.7946\n",
      "Epoch 28/30\n",
      "225/225 [==============================] - 25s 110ms/step - loss: 0.6795 - accuracy: 0.7607 - val_loss: 0.6002 - val_accuracy: 0.7938\n",
      "Epoch 29/30\n",
      "225/225 [==============================] - 25s 111ms/step - loss: 0.6737 - accuracy: 0.7631 - val_loss: 0.6094 - val_accuracy: 0.7930\n",
      "Epoch 30/30\n",
      "225/225 [==============================] - 24s 108ms/step - loss: 0.6637 - accuracy: 0.7669 - val_loss: 0.5951 - val_accuracy: 0.8004\n"
     ]
    },
    {
     "data": {
      "text/plain": [
       "<keras.src.callbacks.History at 0x25cd33e4950>"
      ]
     },
     "execution_count": 13,
     "metadata": {},
     "output_type": "execute_result"
    }
   ],
   "source": [
    "model.fit(x_train, y_train, batch_size=batch_size, epochs = epochs, validation_split=0.1)"
   ]
  },
  {
   "cell_type": "code",
   "execution_count": 14,
   "metadata": {
    "colab": {
     "base_uri": "https://localhost:8080/"
    },
    "executionInfo": {
     "elapsed": 9993,
     "status": "ok",
     "timestamp": 1689052203235,
     "user": {
      "displayName": "aman bhardwaj",
      "userId": "18085061439905292099"
     },
     "user_tz": -330
    },
    "id": "RPii8jcCZDRo",
    "outputId": "de18f50b-56ee-43ee-deab-15b065b55c69"
   },
   "outputs": [
    {
     "name": "stdout",
     "output_type": "stream",
     "text": [
      "Test loss:  0.6205041408538818\n",
      "Test accuracy:  0.7914999723434448\n"
     ]
    }
   ],
   "source": [
    "score = model.evaluate(x_test, y_test, verbose=0)\n",
    "print(\"Test loss: \", score[0])\n",
    "print(\"Test accuracy: \", score[1])"
   ]
  },
  {
   "cell_type": "code",
   "execution_count": null,
   "metadata": {
    "id": "-znpLji9Wx77"
   },
   "outputs": [],
   "source": []
  },
  {
   "cell_type": "code",
   "execution_count": null,
   "metadata": {},
   "outputs": [],
   "source": []
  }
 ],
 "metadata": {
  "colab": {
   "authorship_tag": "ABX9TyOzVMyqqzrlOZRj7DLmkM7T",
   "provenance": []
  },
  "kernelspec": {
   "display_name": "Python 3 (ipykernel)",
   "language": "python",
   "name": "python3"
  },
  "language_info": {
   "codemirror_mode": {
    "name": "ipython",
    "version": 3
   },
   "file_extension": ".py",
   "mimetype": "text/x-python",
   "name": "python",
   "nbconvert_exporter": "python",
   "pygments_lexer": "ipython3",
   "version": "3.11.5"
  }
 },
 "nbformat": 4,
 "nbformat_minor": 4
}
